{
 "cells": [
  {
   "cell_type": "code",
   "execution_count": 9,
   "metadata": {},
   "outputs": [
    {
     "name": "stdout",
     "output_type": "stream",
     "text": [
      " Enter the row number. 15\n",
      "* \n",
      "* * \n",
      "* * * \n",
      "* * * * \n",
      "* * * * * \n",
      "* * * * * * \n",
      "* * * * * * * \n",
      "* * * * * * * * \n",
      "* * * * * * * * * \n",
      "* * * * * * * * * * \n",
      "* * * * * * * * * * * \n",
      "* * * * * * * * * * * * \n",
      "* * * * * * * * * * * * * \n",
      "* * * * * * * * * * * * * * \n",
      "* * * * * * * * * * * * * * * \n",
      "* * * * * * * * * * * * * * \n",
      "* * * * * * * * * * * * * \n",
      "* * * * * * * * * * * * \n",
      "* * * * * * * * * * * \n",
      "* * * * * * * * * * \n",
      "* * * * * * * * * \n",
      "* * * * * * * * \n",
      "* * * * * * * \n",
      "* * * * * * \n",
      "* * * * * \n",
      "* * * * \n",
      "* * * \n",
      "* * \n",
      "* \n"
     ]
    }
   ],
   "source": [
    "'''1.Create the below pattern using nested for loop in Python.\n",
    "\n",
    "*\n",
    "* *\n",
    "* * *\n",
    "* * * *\n",
    "* * * * *\n",
    "* * * *\n",
    "* * *\n",
    "* *\n",
    "*\n",
    "\n",
    "'''\n",
    "\n",
    "n=int(input(\" Enter the row number. \"))\n",
    "# this is the upper part\n",
    "for i in range(1,n+1):\n",
    "    for j in range(1,i+1):\n",
    "        print('*',end=\" \")\n",
    "    print()\n",
    "#this is the lower part\n",
    "for i in range(n-1,0,-1):\n",
    "    for j in range(1,i+1):\n",
    "        print('*',end=' ')\n",
    "    print()"
   ]
  },
  {
   "cell_type": "markdown",
   "metadata": {},
   "source": [
    "# # 2. Write a Python program to reverse a word after accepting the input from the user.\n",
    "Input word: ineuron \n",
    "Output: norueni"
   ]
  },
  {
   "cell_type": "code",
   "execution_count": 11,
   "metadata": {},
   "outputs": [
    {
     "name": "stdout",
     "output_type": "stream",
     "text": [
      "Enter The Word. ineuron\n",
      "norueni\n"
     ]
    }
   ],
   "source": [
    "word=input('Enter The Word. ')\n",
    "reverse=word[::-1]\n",
    "print(reverse)"
   ]
  },
  {
   "cell_type": "code",
   "execution_count": null,
   "metadata": {},
   "outputs": [],
   "source": []
  }
 ],
 "metadata": {
  "kernelspec": {
   "display_name": "Python 3",
   "language": "python",
   "name": "python3"
  },
  "language_info": {
   "codemirror_mode": {
    "name": "ipython",
    "version": 3
   },
   "file_extension": ".py",
   "mimetype": "text/x-python",
   "name": "python",
   "nbconvert_exporter": "python",
   "pygments_lexer": "ipython3",
   "version": "3.8.3"
  }
 },
 "nbformat": 4,
 "nbformat_minor": 4
}
