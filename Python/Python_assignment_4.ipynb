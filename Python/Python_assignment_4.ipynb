{
 "cells": [
  {
   "cell_type": "markdown",
   "metadata": {},
   "source": [
    "# Assignment 4"
   ]
  },
  {
   "cell_type": "markdown",
   "metadata": {},
   "source": [
    "### 1.1 Write a Python Program(with class concepts) to find the area of the triangle using the below formula."
   ]
  },
  {
   "cell_type": "markdown",
   "metadata": {},
   "source": [
    "### area = (s*(s-a)*(s-b)*(s-c)) ** 0.5"
   ]
  },
  {
   "cell_type": "markdown",
   "metadata": {},
   "source": [
    "## Function to take the length of the sides of triangle from user should be defined in the parent class and function to calculate the area should be defined in subclass."
   ]
  },
  {
   "cell_type": "code",
   "execution_count": 200,
   "metadata": {},
   "outputs": [],
   "source": [
    "class super_class:\n",
    "    def input_sight(self):\n",
    "        self.a= int(input('Enter the first side '))\n",
    "        self.b=int(input('Enter the second side '))\n",
    "        self.c=int(input('Enter the last side '))\n",
    "        "
   ]
  },
  {
   "cell_type": "code",
   "execution_count": 201,
   "metadata": {},
   "outputs": [],
   "source": [
    "class sub_class(super_class):\n",
    "    def area(self):\n",
    "        #self.a=a\n",
    "        first=self.a\n",
    "        second=self.b\n",
    "        third=self.c\n",
    "        s=(first+second+third)/2\n",
    "        ar=s*(s-first)*(s-second)*(s-third)\n",
    "        area=ar**.5\n",
    "        print('The area of the triangale is : ',area)"
   ]
  },
  {
   "cell_type": "code",
   "execution_count": 202,
   "metadata": {},
   "outputs": [
    {
     "name": "stdout",
     "output_type": "stream",
     "text": [
      "Enter the first side 10\n",
      "Enter the second side 20\n",
      "Enter the last side 45\n",
      "The area of the triangale is :  (2.2527473779695254e-14+367.90156631903596j)\n"
     ]
    }
   ],
   "source": [
    "obj=sub_class()\n",
    "obj.input_sight()\n",
    "obj.area()"
   ]
  },
  {
   "cell_type": "code",
   "execution_count": null,
   "metadata": {},
   "outputs": [],
   "source": []
  },
  {
   "cell_type": "markdown",
   "metadata": {},
   "source": [
    "## 1.2 Write a function filter_long_words() that takes a list of words and an integer n and returns the list of words that are longer than n."
   ]
  },
  {
   "cell_type": "code",
   "execution_count": 7,
   "metadata": {},
   "outputs": [],
   "source": [
    "def filter_long_words(words,n):\n",
    "    length_n_words=[]\n",
    "    for i in words:\n",
    "        if len(i)>n:\n",
    "            length_n_words.append(i)\n",
    "    return length_n_words"
   ]
  },
  {
   "cell_type": "code",
   "execution_count": 8,
   "metadata": {},
   "outputs": [
    {
     "name": "stdout",
     "output_type": "stream",
     "text": [
      "Enter how many words to take in list 4\n",
      "Enter the words. abcd\n",
      "Enter the words. def\n",
      "Enter the words. ad\n",
      "Enter the words. d\n",
      "Enter the length. 2\n"
     ]
    },
    {
     "data": {
      "text/plain": [
       "['abcd', 'def']"
      ]
     },
     "execution_count": 8,
     "metadata": {},
     "output_type": "execute_result"
    }
   ],
   "source": [
    "no=int(input('Enter how many words to take in list '))\n",
    "words=[]\n",
    "for i in range(no):\n",
    "    words.append(input('Enter the words. '))\n",
    "length=int(input('Enter the length. '))\n",
    "\n",
    "filter_long_words(words,length)"
   ]
  },
  {
   "cell_type": "markdown",
   "metadata": {},
   "source": [
    "## 2.1 Write a Python program using function concept that maps list of words into a list of integers representing the lengths of the corresponding words."
   ]
  },
  {
   "cell_type": "code",
   "execution_count": 9,
   "metadata": {},
   "outputs": [],
   "source": [
    "def words_to_length(words):\n",
    "    words_length=[]\n",
    "    for i in words:\n",
    "        words_length.append(len(i))\n",
    "    return words_length\n",
    "        "
   ]
  },
  {
   "cell_type": "code",
   "execution_count": 10,
   "metadata": {},
   "outputs": [
    {
     "name": "stdout",
     "output_type": "stream",
     "text": [
      "Enter how many words to take in list 3\n",
      "Enter the words. av\n",
      "Enter the words. ec\n",
      "Enter the words. edfg\n"
     ]
    },
    {
     "data": {
      "text/plain": [
       "[2, 2, 4]"
      ]
     },
     "execution_count": 10,
     "metadata": {},
     "output_type": "execute_result"
    }
   ],
   "source": [
    "no=int(input('Enter how many words to take in list '))\n",
    "words=[]\n",
    "for i in range(no):\n",
    "    words.append(input('Enter the words. '))\n",
    "words_to_length(words)"
   ]
  },
  {
   "cell_type": "markdown",
   "metadata": {},
   "source": [
    "## 2.2 Write a Python function which takes a character (i.e. a string of length 1) and returns True if it is a vowel, False otherwise."
   ]
  },
  {
   "cell_type": "code",
   "execution_count": 11,
   "metadata": {},
   "outputs": [],
   "source": [
    "def vowel_check(ch):\n",
    "    if ch=='a' or ch=='e' or ch=='i' or ch=='o' or ch =='u':\n",
    "        return True\n",
    "    else:\n",
    "        return False\n",
    "    "
   ]
  },
  {
   "cell_type": "code",
   "execution_count": 15,
   "metadata": {},
   "outputs": [
    {
     "name": "stdout",
     "output_type": "stream",
     "text": [
      "Enter the character .vbb\n"
     ]
    },
    {
     "data": {
      "text/plain": [
       "False"
      ]
     },
     "execution_count": 15,
     "metadata": {},
     "output_type": "execute_result"
    }
   ],
   "source": [
    "ch=input('Enter the character .')[0]\n",
    "vowel_check(ch)"
   ]
  },
  {
   "cell_type": "code",
   "execution_count": null,
   "metadata": {},
   "outputs": [],
   "source": []
  }
 ],
 "metadata": {
  "kernelspec": {
   "display_name": "Python 3",
   "language": "python",
   "name": "python3"
  },
  "language_info": {
   "codemirror_mode": {
    "name": "ipython",
    "version": 3
   },
   "file_extension": ".py",
   "mimetype": "text/x-python",
   "name": "python",
   "nbconvert_exporter": "python",
   "pygments_lexer": "ipython3",
   "version": "3.8.3"
  }
 },
 "nbformat": 4,
 "nbformat_minor": 4
}
